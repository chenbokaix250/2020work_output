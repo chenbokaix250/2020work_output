{
 "cells": [
  {
   "cell_type": "markdown",
   "metadata": {},
   "source": [
    "#### 图像增广\n",
    "\n",
    "通过对训练图像做一系列随机改变,来产生相似但又不同的训练样本,从而扩大训练数据集的规模\n",
    "\n"
   ]
  },
  {
   "cell_type": "markdown",
   "metadata": {},
   "source": [
    "#### 反转和裁剪 \n",
    "通过transforms模块创建RandomFlipLeftRight实例来实现一半概率的图像左右翻转\n",
    "\n",
    "#### 变化颜色\n",
    "\n",
    "另一类增广方法是变化颜色。我们可以从4个方面改变图像的颜色：亮度、对比度、饱和度和色调。在下面的例子里，我们将图像的亮度随机变化为原图亮度的$50\\%$（即$1-0.5$）$\\sim 150\\%$（即$1+0.5$）。\n",
    "#### 叠加多个图像增广方法\n",
    "\n",
    "实际应用中我们会将多个图像增广方法叠加使用。我们可以通过`Compose`实例将上面定义的多个图像增广方法叠加起来，再应用到每张图像之上。"
   ]
  },
  {
   "cell_type": "markdown",
   "metadata": {},
   "source": [
    "### 微调\n",
    "1. 在源数据集上预训练一个神经网络模型,即源模型\n",
    "2. 创建一个新的神经网络模型,即目标模型 用于复制源模型\n",
    "3. 为目标模型添加一个输出大小为目标数据集类别个数的输入层,并随机初始化该层的模型参数\n",
    "4. 在目标数据集上训练目标模型.\n",
    "\n",
    "**当目标数据集远小于源数据集时,微调有助于提升模型的泛化能力**\n"
   ]
  },
  {
   "cell_type": "markdown",
   "metadata": {},
   "source": [
    "* 迁移学习将从源数据集学到的知识迁移到目标数据集上。微调是迁移学习的一种常用技术。\n",
    "* 目标模型复制了源模型上除了输出层外的所有模型设计及其参数，并基于目标数据集微调这些参数。而目标模型的输出层需要从头训练。\n",
    "* 一般来说，微调参数会使用较小的学习率，而从头训练输出层可以使用较大的学习率。"
   ]
  },
  {
   "cell_type": "markdown",
   "metadata": {},
   "source": [
    "在目标检测里，我们通常使用边界框（bounding box）来描述目标位置。边界框是一个矩形框，可以由矩形左上角的$x$和$y$轴坐标与右下角的$x$和$y$轴坐标确定。我们根据上面的图的坐标信息来定义图中狗和猫的边界框。图中的坐标原点在图像的左上角，原点往右和往下分别为$x$轴和$y$轴的正方向。"
   ]
  },
  {
   "cell_type": "code",
   "execution_count": null,
   "metadata": {},
   "outputs": [],
   "source": []
  }
 ],
 "metadata": {
  "kernelspec": {
   "display_name": "Python 3",
   "language": "python",
   "name": "python3"
  },
  "language_info": {
   "codemirror_mode": {
    "name": "ipython",
    "version": 3
   },
   "file_extension": ".py",
   "mimetype": "text/x-python",
   "name": "python",
   "nbconvert_exporter": "python",
   "pygments_lexer": "ipython3",
   "version": "3.6.8"
  }
 },
 "nbformat": 4,
 "nbformat_minor": 2
}
